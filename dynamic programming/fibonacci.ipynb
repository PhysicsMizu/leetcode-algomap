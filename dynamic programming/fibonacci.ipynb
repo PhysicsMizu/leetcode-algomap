{
 "cells": [
  {
   "cell_type": "code",
   "execution_count": null,
   "metadata": {},
   "outputs": [],
   "source": []
  },
  {
   "cell_type": "raw",
   "metadata": {},
   "source": [
    "class Solution {\n",
    "public:\n",
    "    int fib(int n) {\n",
    "        if (n ==0) return 0;\n",
    "        if (n ==1) return 1;\n",
    "        return fib(n-1) + fib( n-2) ;\n",
    "        \n",
    "    }\n",
    "};"
   ]
  },
  {
   "cell_type": "code",
   "execution_count": null,
   "metadata": {},
   "outputs": [],
   "source": []
  }
 ],
 "metadata": {
  "language_info": {
   "name": "python"
  }
 },
 "nbformat": 4,
 "nbformat_minor": 2
}
