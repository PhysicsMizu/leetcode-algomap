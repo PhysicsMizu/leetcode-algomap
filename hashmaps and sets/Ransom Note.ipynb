{
 "cells": [
  {
   "cell_type": "markdown",
   "metadata": {},
   "source": [
    "383. Ransom Note\n",
    "\n",
    "Given two strings ransomNote and magazine, return true if ransomNote can be constructed by using the letters from magazine and false otherwise.\n",
    "\n",
    "Each letter in magazine can only be used once in ransomNote.\n",
    "\n",
    " \n",
    "\n",
    "Example 1:\n",
    "\n",
    "Input: ransomNote = \"a\", magazine = \"b\"\n",
    "Output: false\n",
    "Example 2:\n",
    "\n",
    "Input: ransomNote = \"aa\", magazine = \"ab\"\n",
    "Output: false\n",
    "Example 3:\n",
    "\n",
    "Input: ransomNote = \"aa\", magazine = \"aab\"\n",
    "Output: true\n",
    " \n",
    "\n",
    "Constraints:\n",
    "\n",
    "1 <= ransomNote.length, magazine.length <= 105\n",
    "ransomNote and magazine consist of lowercase English letters."
   ]
  },
  {
   "cell_type": "code",
   "execution_count": null,
   "metadata": {},
   "outputs": [],
   "source": []
  },
  {
   "cell_type": "code",
   "execution_count": 1,
   "metadata": {},
   "outputs": [],
   "source": [
    "class Solution(object):\n",
    "    def canConstruct(self, ransomNote, magazine):\n",
    "        \"\"\"\n",
    "        :type ransomNote: str\n",
    "        :type magazine: str\n",
    "        :rtype: bool\n",
    "        \"\"\"\n",
    "        ransomcounts = {x:ransomNote.count(x) for x in set(ransomNote)}\n",
    "        magazinecounts = {x:magazine.count(x)for x in set(ransomNote)}\n",
    "        for x in ransomcounts:\n",
    "            if magazinecounts[x] < ransomcounts[x]: return False\n",
    "        return True"
   ]
  },
  {
   "cell_type": "code",
   "execution_count": 2,
   "metadata": {},
   "outputs": [
    {
     "data": {
      "text/plain": [
       "True"
      ]
     },
     "execution_count": 2,
     "metadata": {},
     "output_type": "execute_result"
    }
   ],
   "source": [
    "ransomNote =\"aa\"\n",
    "magazine =\"aab\"\n",
    "Solution().canConstruct(ransomNote, magazine)"
   ]
  }
 ],
 "metadata": {
  "kernelspec": {
   "display_name": "base",
   "language": "python",
   "name": "python3"
  },
  "language_info": {
   "codemirror_mode": {
    "name": "ipython",
    "version": 3
   },
   "file_extension": ".py",
   "mimetype": "text/x-python",
   "name": "python",
   "nbconvert_exporter": "python",
   "pygments_lexer": "ipython3",
   "version": "3.11.5"
  }
 },
 "nbformat": 4,
 "nbformat_minor": 2
}
